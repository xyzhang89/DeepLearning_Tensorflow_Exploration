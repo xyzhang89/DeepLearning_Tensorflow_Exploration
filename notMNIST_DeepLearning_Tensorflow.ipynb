{
 "cells": [
  {
   "cell_type": "markdown",
   "metadata": {
    "deletable": true,
    "editable": true
   },
   "source": [
    "<h1 id=\"tocheading\">Table of Contents</h1>\n",
    "<div id=\"toc\"></div>"
   ]
  },
  {
   "cell_type": "code",
   "execution_count": 1,
   "metadata": {
    "collapsed": false,
    "deletable": true,
    "editable": true
   },
   "outputs": [
    {
     "data": {
      "application/javascript": [
       "$.getScript('https://kmahelona.github.io/ipython_notebook_goodies/ipython_notebook_toc.js')"
      ],
      "text/plain": [
       "<IPython.core.display.Javascript object>"
      ]
     },
     "metadata": {},
     "output_type": "display_data"
    }
   ],
   "source": [
    "%%javascript\n",
    "$.getScript('https://kmahelona.github.io/ipython_notebook_goodies/ipython_notebook_toc.js')"
   ]
  },
  {
   "cell_type": "markdown",
   "metadata": {
    "deletable": true,
    "editable": true
   },
   "source": [
    "# Introduction"
   ]
  },
  {
   "cell_type": "markdown",
   "metadata": {
    "deletable": true,
    "editable": true
   },
   "source": [
    "This notebook is an exploration of deep learning with Tensorflow based on the [Udacity \n",
    "Deep Learning Course by Google](https://www.udacity.com/course/deep-learning--ud730)\n",
    "and [Martin Gorner's Tutorial](https://cloud.google.com/blog/big-data/2017/01/learn-tensorflow-and-deep-learning-without-a-phd)\n"
   ]
  },
  {
   "cell_type": "markdown",
   "metadata": {
    "deletable": true,
    "editable": true
   },
   "source": [
    "The [notMNIST](http://yaroslavvb.blogspot.com/2011/09/notmnist-dataset.html) dataset is used in this notebook for exploration of deep learning. This dataset is designed to look like the classic [MNIST](http://yann.lecun.com/exdb/mnist/) dataset, while looking a little more like real data: it's a harder task, and the data is a lot less 'clean' than MNIST."
   ]
  },
  {
   "cell_type": "code",
   "execution_count": 1,
   "metadata": {
    "collapsed": true,
    "deletable": true,
    "editable": true
   },
   "outputs": [],
   "source": [
    "from __future__ import print_function\n",
    "import numpy as np\n",
    "import tensorflow as tf\n",
    "from six.moves import cPickle as pickle\n",
    "from six.moves import range\n",
    "import matplotlib.pyplot as plt\n",
    "%matplotlib inline"
   ]
  },
  {
   "cell_type": "markdown",
   "metadata": {
    "deletable": true,
    "editable": true
   },
   "source": [
    "## Data Preprocessing"
   ]
  },
  {
   "cell_type": "markdown",
   "metadata": {
    "deletable": true,
    "editable": true
   },
   "source": [
    "The procedure of creating the pickle file with formatted datasets is shown in details in `1_notmnist.ipynb`.  Here we just skip that part and use the generated dataset directly. The functions in this noteboook can be simplied applied on analysis of other databases."
   ]
  },
  {
   "cell_type": "code",
   "execution_count": 2,
   "metadata": {
    "collapsed": false,
    "deletable": true,
    "editable": true
   },
   "outputs": [
    {
     "name": "stdout",
     "output_type": "stream",
     "text": [
      "Training set (200000, 28, 28) (200000,)\n",
      "Validation set (10000, 28, 28) (10000,)\n",
      "Test set (10000, 28, 28) (10000,)\n"
     ]
    }
   ],
   "source": [
    "pickle_file = 'notMNIST.pickle'\n",
    "\n",
    "with open(pickle_file, 'rb') as f:\n",
    "  save = pickle.load(f)\n",
    "  train_dataset = save['train_dataset']\n",
    "  train_labels = save['train_labels']\n",
    "  valid_dataset = save['valid_dataset']\n",
    "  valid_labels = save['valid_labels']\n",
    "  test_dataset = save['test_dataset']\n",
    "  test_labels = save['test_labels']\n",
    "  del save  # hint to help gc free up memory\n",
    "  print('Training set', train_dataset.shape, train_labels.shape)\n",
    "  print('Validation set', valid_dataset.shape, valid_labels.shape)\n",
    "  print('Test set', test_dataset.shape, test_labels.shape)"
   ]
  },
  {
   "cell_type": "code",
   "execution_count": 3,
   "metadata": {
    "collapsed": false,
    "deletable": true,
    "editable": true
   },
   "outputs": [
    {
     "name": "stdout",
     "output_type": "stream",
     "text": [
      "Training set (200000, 784) (200000, 10)\n",
      "Validation set (10000, 784) (10000, 10)\n",
      "Test set (10000, 784) (10000, 10)\n"
     ]
    }
   ],
   "source": [
    "image_size = 28\n",
    "num_labels = 10\n",
    "\n",
    "def reformat(dataset, labels):\n",
    "  dataset = dataset.reshape((-1, image_size * image_size)).astype(np.float32)\n",
    "  # Map 0 to [1.0, 0.0, 0.0 ...], 1 to [0.0, 1.0, 0.0 ...]\n",
    "  labels = (np.arange(num_labels) == labels[:,None]).astype(np.float32)\n",
    "  return dataset, labels\n",
    "train_dataset, train_labels = reformat(train_dataset, train_labels)\n",
    "valid_dataset, valid_labels = reformat(valid_dataset, valid_labels)\n",
    "test_dataset, test_labels = reformat(test_dataset, test_labels)\n",
    "print('Training set', train_dataset.shape, train_labels.shape)\n",
    "print('Validation set', valid_dataset.shape, valid_labels.shape)\n",
    "print('Test set', test_dataset.shape, test_labels.shape)"
   ]
  },
  {
   "cell_type": "code",
   "execution_count": 8,
   "metadata": {
    "collapsed": true,
    "deletable": true,
    "editable": true
   },
   "outputs": [],
   "source": [
    "def accuracy(predictions, labels):\n",
    "  return (100.0 * np.sum(np.argmax(predictions, 1) == np.argmax(labels, 1))\n",
    "          / predictions.shape[0])"
   ]
  },
  {
   "cell_type": "markdown",
   "metadata": {
    "deletable": true,
    "editable": true
   },
   "source": [
    "## Start Model"
   ]
  },
  {
   "cell_type": "markdown",
   "metadata": {
    "deletable": true,
    "editable": true
   },
   "source": [
    "### Logistic Classification"
   ]
  },
  {
   "cell_type": "code",
   "execution_count": 39,
   "metadata": {
    "collapsed": true,
    "deletable": true,
    "editable": true
   },
   "outputs": [],
   "source": [
    "def run_training(num_steps,graph,lr=1e-3,dropout=1.0,beta=0.0, relu = 1):\n",
    "  with tf.Session(graph=graph) as session:\n",
    "      tf.global_variables_initializer().run()\n",
    "      print(\"Initialized\")\n",
    "      steps = []\n",
    "      train_history = []\n",
    "      valid_history = []\n",
    "      for step in range(num_steps):\n",
    "        offset = (step * batch_size) % (train_labels.shape[0] - batch_size)\n",
    "        batch_data = train_dataset[offset:(offset + batch_size), :]\n",
    "        batch_labels = train_labels[offset:(offset + batch_size), :]\n",
    "        feed_dict = {tf_train_dataset : batch_data, tf_train_labels : batch_labels,\n",
    "                     learning_rate : lr, pkeep : dropout, regu_beta : beta, \n",
    "                     relu_flag : relu}\n",
    "        _, l, predictions = session.run(\n",
    "          [optimizer, loss, train_prediction], feed_dict=feed_dict)\n",
    "        print_step = num_steps//10\n",
    "        if (step % print_step == 0):\n",
    "          train_accuracy = accuracy(predictions, batch_labels)\n",
    "          valid_accuracy = accuracy(valid_prediction.eval(), valid_labels)\n",
    "          steps.append(step*lr)\n",
    "          train_history.append(train_accuracy)\n",
    "          valid_history.append(valid_accuracy)\n",
    "          print(\"Minibatch loss at step %d: %f\" % (step, l))\n",
    "#           print(\"Minibatch accuracy: %.1f%%\" % train_accuracy)\n",
    "#           print(\"Validation accuracy: %.1f%%\" % valid_accuracy)\n",
    "      print(\"Test accuracy: %.1f%%\" % accuracy(test_prediction.eval(), test_labels))\n",
    "  return [steps, train_history,valid_history]"
   ]
  },
  {
   "cell_type": "code",
   "execution_count": 33,
   "metadata": {
    "collapsed": true,
    "deletable": true,
    "editable": true
   },
   "outputs": [],
   "source": [
    "def plot_accuracy_history(result,title):\n",
    "    plt.plot(result[0],result[1])\n",
    "    plt.plot(result[0],result[2])\n",
    "    plt.legend(['train_accuracy', 'validate_accuracy'], loc='lower right')\n",
    "    plt.xlabel('Iteration Time')\n",
    "    plt.title(title)\n",
    "    plt.show()"
   ]
  },
  {
   "cell_type": "code",
   "execution_count": 31,
   "metadata": {
    "collapsed": true,
    "deletable": true,
    "editable": true
   },
   "outputs": [],
   "source": [
    "def logistic_classification(x, weights, biases):\n",
    "    out_layer = tf.matmul(x, weights['out']) + biases['out']\n",
    "    return out_layer\n",
    "\n",
    "graph_lc = tf.Graph()\n",
    "with graph_lc.as_default():\n",
    "  batch_size = 128\n",
    "  tf_train_dataset = tf.placeholder(tf.float32,shape=(batch_size, image_size * image_size))\n",
    "  tf_train_labels = tf.placeholder(tf.float32, shape=(batch_size, num_labels))\n",
    "  tf_valid_dataset = tf.constant(valid_dataset)\n",
    "  tf_test_dataset = tf.constant(test_dataset)\n",
    "  learning_rate = tf.placeholder(tf.float32)\n",
    "  pkeep = tf.placeholder(tf.float32)\n",
    "  regu_beta = tf.placeholder(tf.float32)  \n",
    "  relu_flag = tf.placeholder(tf.int8) \n",
    "  \n",
    "  weights = {\n",
    "     'out': tf.Variable(tf.random_normal([image_size * image_size, num_labels]))\n",
    "  }\n",
    "  biases = {\n",
    "     'out': tf.Variable(tf.random_normal([num_labels]))\n",
    "  }\n",
    "  \n",
    "  logits = logistic_classification(tf_train_dataset, weights, biases)\n",
    "  loss = tf.reduce_mean(\n",
    "    tf.nn.softmax_cross_entropy_with_logits(labels=tf_train_labels, logits=logits) +\n",
    "      regu_beta * tf.nn.l2_loss(weights['out'])\n",
    "  )\n",
    "  optimizer = tf.train.GradientDescentOptimizer(learning_rate).minimize(loss)\n",
    "  \n",
    "  train_prediction = tf.nn.softmax(logits)\n",
    "  valid_prediction = tf.nn.softmax(logistic_classification(tf_valid_dataset, weights, biases))\n",
    "  test_prediction = tf.nn.softmax(logistic_classification(tf_test_dataset, weights, biases))"
   ]
  },
  {
   "cell_type": "code",
   "execution_count": 40,
   "metadata": {
    "collapsed": false,
    "deletable": true,
    "editable": true
   },
   "outputs": [
    {
     "name": "stdout",
     "output_type": "stream",
     "text": [
      "Initialized\n",
      "Minibatch loss at step 0: 19.046623\n",
      "Minibatch loss at step 300: 2.353917\n",
      "Minibatch loss at step 600: 1.606063\n",
      "Minibatch loss at step 900: 1.721736\n",
      "Minibatch loss at step 1200: 1.177253\n",
      "Minibatch loss at step 1500: 1.081404\n",
      "Minibatch loss at step 1800: 1.603882\n",
      "Minibatch loss at step 2100: 1.028896\n",
      "Minibatch loss at step 2400: 1.042101\n",
      "Minibatch loss at step 2700: 1.145900\n",
      "Minibatch loss at step 3000: 1.069867\n",
      "Test accuracy: 85.9%\n"
     ]
    },
    {
     "data": {
      "image/png": "[encoded data removed]",
      "text/plain": [
       "<matplotlib.figure.Figure at 0x14665aa10>"
      ]
     },
     "metadata": {},
     "output_type": "display_data"
    }
   ],
   "source": [
    "result_lc = run_training(3001,graph_lc,lr = 0.5)\n",
    "plot_accuracy_history(result_lc,title = 'logistic classification')"
   ]
  },
  {
   "cell_type": "markdown",
   "metadata": {
    "deletable": true,
    "editable": true
   },
   "source": [
    "### Logistic Classification with L2 Regularization"
   ]
  },
  {
   "cell_type": "code",
   "execution_count": 43,
   "metadata": {
    "collapsed": false,
    "deletable": true,
    "editable": true
   },
   "outputs": [
    {
     "name": "stdout",
     "output_type": "stream",
     "text": [
      "Initialized\n",
      "Minibatch loss at step 0: 22.162886\n",
      "Minibatch loss at step 300: 4.503520\n",
      "Minibatch loss at step 600: 3.009377\n",
      "Minibatch loss at step 900: 2.509858\n",
      "Minibatch loss at step 1200: 1.559438\n",
      "Minibatch loss at step 1500: 1.039076\n",
      "Minibatch loss at step 1800: 1.293847\n",
      "Minibatch loss at step 2100: 0.923833\n",
      "Minibatch loss at step 2400: 0.845308\n",
      "Minibatch loss at step 2700: 0.797584\n",
      "Minibatch loss at step 3000: 0.837221\n",
      "Test accuracy: 88.9%\n"
     ]
    },
    {
     "data": {
      "image/png": "[encoded data removed]",
      "text/plain": [
       "<matplotlib.figure.Figure at 0x14bebd190>"
      ]
     },
     "metadata": {},
     "output_type": "display_data"
    }
   ],
   "source": [
    "result_lc_L2 = run_training(3001,graph_lc,lr = 0.5,beta=1e-3)\n",
    "plot_accuracy_history(result_lc_L2,title = 'logistic classification with L2 regularization')"
   ]
  },
  {
   "cell_type": "code",
   "execution_count": 20,
   "metadata": {
    "collapsed": false,
    "deletable": true,
    "editable": true
   },
   "outputs": [],
   "source": [
    "def model(X):\n",
    "    # five layers and their number of neurons (tha last layer has 10 softmax neurons)\n",
    "    L = 200\n",
    "    M = 100\n",
    "    N = 60\n",
    "    O = 30\n",
    "    # Weights initialised with small random values between -0.2 and +0.2\n",
    "    # When using RELUs, make sure biases are initialised with small *positive* values for example 0.1 = tf.ones([K])/10\n",
    "    W1 = tf.Variable(tf.truncated_normal([784, L], stddev=0.1))  # 784 = 28 * 28\n",
    "    B1 = tf.Variable(tf.ones([L])/10)\n",
    "    W2 = tf.Variable(tf.truncated_normal([L, M], stddev=0.1))\n",
    "    B2 = tf.Variable(tf.ones([M])/10)\n",
    "    W3 = tf.Variable(tf.truncated_normal([M, N], stddev=0.1))\n",
    "    B3 = tf.Variable(tf.ones([N])/10)\n",
    "    W4 = tf.Variable(tf.truncated_normal([N, O], stddev=0.1))\n",
    "    B4 = tf.Variable(tf.ones([O])/10)\n",
    "    W5 = tf.Variable(tf.truncated_normal([O, 10], stddev=0.1))\n",
    "    B5 = tf.Variable(tf.zeros([10]))\n",
    "\n",
    "    # The model, with dropout at each layer\n",
    "    XX = tf.reshape(X, [-1, 28*28])\n",
    "\n",
    "    Y1 = tf.nn.relu(tf.matmul(XX, W1) + B1)\n",
    "    Y1d = tf.nn.dropout(Y1, pkeep)\n",
    "\n",
    "    Y2 = tf.nn.relu(tf.matmul(Y1d, W2) + B2)\n",
    "    Y2d = tf.nn.dropout(Y2, pkeep)\n",
    "\n",
    "    Y3 = tf.nn.relu(tf.matmul(Y2d, W3) + B3)\n",
    "    Y3d = tf.nn.dropout(Y3, pkeep)\n",
    "\n",
    "    Y4 = tf.nn.relu(tf.matmul(Y3d, W4) + B4)\n",
    "    Y4d = tf.nn.dropout(Y4, pkeep)\n",
    "\n",
    "    Ylogits = tf.matmul(Y4d, W5) + B5\n",
    "    Y = tf.nn.softmax(Ylogits)\n",
    "    return Ylogits"
   ]
  },
  {
   "cell_type": "markdown",
   "metadata": {
    "deletable": true,
    "editable": true
   },
   "source": [
    "# Fully Connected Neural Network"
   ]
  },
  {
   "cell_type": "markdown",
   "metadata": {
    "collapsed": true,
    "deletable": true,
    "editable": true
   },
   "source": [
    "## 1-hidden layer Neural Network"
   ]
  },
  {
   "cell_type": "code",
   "execution_count": 44,
   "metadata": {
    "collapsed": false,
    "deletable": true,
    "editable": true
   },
   "outputs": [],
   "source": [
    "def nn_1h(x, weights, biases,relu = 1):\n",
    "    layer_1 = tf.add(tf.matmul(x, weights['h1']), biases['b1'])\n",
    "    if (relu == 1):\n",
    "        layer_1 = tf.nn.relu(layer_1)\n",
    "    else:\n",
    "        layer_1 = tf.nn.sigmoid(layer_1)\n",
    "    out_layer = tf.matmul(layer_1, weights['out']) + biases['out']\n",
    "    return out_layer\n",
    "\n",
    "graph_nn_1h = tf.Graph()\n",
    "with graph_nn_1h.as_default():  \n",
    "  batch_size = 128\n",
    "  n_hidden_1 = 1024 # 1st layer number of features\n",
    "  tf_train_dataset = tf.placeholder(tf.float32,shape=(batch_size, image_size * image_size))\n",
    "  tf_train_labels = tf.placeholder(tf.float32, shape=(batch_size, num_labels))\n",
    "  tf_valid_dataset = tf.constant(valid_dataset)\n",
    "  tf_test_dataset = tf.constant(test_dataset)\n",
    "  learning_rate = tf.placeholder(tf.float32)\n",
    "  pkeep = tf.placeholder(tf.float32)\n",
    "  regu_beta = tf.placeholder(tf.float32)\n",
    "  relu_flag = tf.placeholder(tf.int8)\n",
    "  \n",
    "  weights = {\n",
    "     'h1': tf.Variable(tf.random_normal([image_size * image_size, n_hidden_1])),\n",
    "     'out': tf.Variable(tf.random_normal([n_hidden_1, num_labels]))\n",
    "  }\n",
    "  biases = {\n",
    "     'b1': tf.Variable(tf.random_normal([n_hidden_1])),\n",
    "     'out': tf.Variable(tf.random_normal([num_labels]))\n",
    "  }\n",
    "  logits = nn_1h(tf_train_dataset, weights, biases,relu_flag)\n",
    "  loss = tf.reduce_mean(\n",
    "    tf.nn.softmax_cross_entropy_with_logits(labels=tf_train_labels, logits=logits)+\n",
    "      regu_beta * tf.nn.l2_loss(weights['out']) +\n",
    "      regu_beta * tf.nn.l2_loss(weights['h1'])\n",
    "  )\n",
    "  optimizer = tf.train.GradientDescentOptimizer(learning_rate).minimize(loss)\n",
    "\n",
    "  train_prediction = tf.nn.softmax(logits)\n",
    "  valid_prediction = tf.nn.softmax(nn_1h(tf_valid_dataset, weights, biases,relu_flag))\n",
    "  test_prediction = tf.nn.softmax(nn_1h(tf_test_dataset, weights, biases,relu_flag))"
   ]
  },
  {
   "cell_type": "markdown",
   "metadata": {
    "deletable": true,
    "editable": true
   },
   "source": [
    "### ReLu vs. Sigmoid"
   ]
  },
  {
   "cell_type": "code",
   "execution_count": 47,
   "metadata": {
    "collapsed": false,
    "deletable": true,
    "editable": true
   },
   "outputs": [
    {
     "name": "stdout",
     "output_type": "stream",
     "text": [
      "Initialized\n",
      "Minibatch loss at step 0: 33.065933\n",
      "Minibatch loss at step 300: 4.565727\n",
      "Minibatch loss at step 600: 3.693823\n",
      "Minibatch loss at step 900: 3.023897\n",
      "Minibatch loss at step 1200: 1.645992\n",
      "Minibatch loss at step 1500: 0.990770\n",
      "Minibatch loss at step 1800: 2.444775\n",
      "Minibatch loss at step 2100: 1.076867\n",
      "Minibatch loss at step 2400: 1.378235\n",
      "Minibatch loss at step 2700: 1.253860\n",
      "Minibatch loss at step 3000: 1.290223\n",
      "Test accuracy: 88.7%\n",
      "CPU times: user 3min 30s, sys: 8.11 s, total: 3min 38s\n",
      "Wall time: 1min 7s\n"
     ]
    },
    {
     "data": {
      "image/png": "[encoded data removed]",
      "text/plain": [
       "<matplotlib.figure.Figure at 0x159469050>"
      ]
     },
     "metadata": {},
     "output_type": "display_data"
    }
   ],
   "source": [
    "%time result_nn_1h = run_training(3001,graph_nn_1h,lr = 0.5)\n",
    "plot_accuracy_history(result_nn_1h,title = 'NN with 1 hidden layer')"
   ]
  },
  {
   "cell_type": "code",
   "execution_count": 48,
   "metadata": {
    "collapsed": false,
    "deletable": true,
    "editable": true
   },
   "outputs": [
    {
     "name": "stdout",
     "output_type": "stream",
     "text": [
      "Initialized\n",
      "Minibatch loss at step 0: 30.393391\n",
      "Minibatch loss at step 300: 3.524937\n",
      "Minibatch loss at step 600: 3.252167\n",
      "Minibatch loss at step 900: 2.377924\n",
      "Minibatch loss at step 1200: 1.656587\n",
      "Minibatch loss at step 1500: 1.245952\n",
      "Minibatch loss at step 1800: 1.747317\n",
      "Minibatch loss at step 2100: 1.449013\n",
      "Minibatch loss at step 2400: 1.330536\n",
      "Minibatch loss at step 2700: 1.115315\n",
      "Minibatch loss at step 3000: 1.218311\n",
      "Test accuracy: 87.6%\n",
      "CPU times: user 3min 26s, sys: 9.9 s, total: 3min 36s\n",
      "Wall time: 1min 7s\n"
     ]
    },
    {
     "data": {
      "image/png": "[encoded data removed]",
      "text/plain": [
       "<matplotlib.figure.Figure at 0x14bf11c10>"
      ]
     },
     "metadata": {},
     "output_type": "display_data"
    }
   ],
   "source": [
    "%time result_nn_1h_sigmoid = run_training(3001,graph_nn_1h,lr = 0.5,relu = 0)\n",
    "plot_accuracy_history(result_nn_1h_sigmoid,title = 'NN with 1 hidden layer')"
   ]
  },
  {
   "cell_type": "code",
   "execution_count": 52,
   "metadata": {
    "collapsed": false,
    "deletable": true,
    "editable": true
   },
   "outputs": [
    {
     "name": "stdout",
     "output_type": "stream",
     "text": [
      "Initialized\n",
      "Minibatch loss at step 0: 436.453064\n",
      "Minibatch loss at step 300: 303.550293\n",
      "Minibatch loss at step 600: 225.078674\n",
      "Minibatch loss at step 900: 166.934235\n",
      "Minibatch loss at step 1200: 123.082016\n",
      "Minibatch loss at step 1500: 91.569809\n",
      "Minibatch loss at step 1800: 68.465240\n",
      "Minibatch loss at step 2100: 50.813324\n",
      "Minibatch loss at step 2400: 37.699894\n",
      "Minibatch loss at step 2700: 29.145447\n",
      "Minibatch loss at step 3000: 20.878002\n",
      "Test accuracy: 89.5%\n"
     ]
    },
    {
     "data": {
      "image/png": "[encoded data removed]",
      "text/plain": [
       "<matplotlib.figure.Figure at 0x146a600d0>"
      ]
     },
     "metadata": {},
     "output_type": "display_data"
    }
   ],
   "source": [
    "result_nn_1h_L2 = run_training(3001,graph_nn_1h,lr = 0.5,beta = 1e-3)\n",
    "plot_accuracy_history(result_nn_1h_L2,title = 'NN with 1 hidden layer with L2 regularization')"
   ]
  },
  {
   "cell_type": "markdown",
   "metadata": {
    "deletable": true,
    "editable": true
   },
   "source": [
    "## 2-hidden layer Neural Network"
   ]
  },
  {
   "cell_type": "code",
   "execution_count": 65,
   "metadata": {
    "collapsed": false,
    "deletable": true,
    "editable": true
   },
   "outputs": [],
   "source": [
    "def nn_2h(x, weights, biases,relu = 1):\n",
    "    layer_1 = tf.add(tf.matmul(x, weights['h1']), biases['b1'])\n",
    "    if (relu == 1):\n",
    "        layer_1 = tf.nn.relu(layer_1)\n",
    "    else:\n",
    "        layer_1 = tf.nn.sigmoid(layer_1)\n",
    "    \n",
    "    layer_2 = tf.add(tf.matmul(layer_1, weights['h2']), biases['b2'])\n",
    "    if (relu == 1):\n",
    "        layer_2 = tf.nn.relu(layer_2)\n",
    "    else:\n",
    "        layer_2 = tf.nn.sigmoid(layer_2)\n",
    "    out_layer = tf.matmul(layer_2, weights['out']) + biases['out']\n",
    "    return out_layer\n",
    "\n",
    "graph_nn_2h = tf.Graph()\n",
    "with graph_nn_2h.as_default():  \n",
    "  batch_size = 128\n",
    "  n_hidden_1 = 1024 # 1st layer number of features\n",
    "  n_hidden_2 = 256 # 1st layer number of features\n",
    "  tf_train_dataset = tf.placeholder(tf.float32,shape=(batch_size, image_size * image_size))\n",
    "  tf_train_labels = tf.placeholder(tf.float32, shape=(batch_size, num_labels))\n",
    "  tf_valid_dataset = tf.constant(valid_dataset)\n",
    "  tf_test_dataset = tf.constant(test_dataset)\n",
    "  learning_rate = tf.placeholder(tf.float32)\n",
    "  pkeep = tf.placeholder(tf.float32)\n",
    "  regu_beta = tf.placeholder(tf.float32)\n",
    "  relu_flag = tf.placeholder(tf.int8)\n",
    "  \n",
    "  weights = {\n",
    "     'h1': tf.Variable(tf.random_normal([image_size * image_size, n_hidden_1])),\n",
    "     'h2': tf.Variable(tf.random_normal([n_hidden_1, n_hidden_2])),\n",
    "     'out': tf.Variable(tf.random_normal([n_hidden_2, num_labels]))\n",
    "  }\n",
    "  biases = {\n",
    "     'b1': tf.Variable(tf.random_normal([n_hidden_1])),\n",
    "     'b2': tf.Variable(tf.random_normal([n_hidden_2])),\n",
    "     'out': tf.Variable(tf.random_normal([num_labels]))\n",
    "  }\n",
    "  logits = nn_2h(tf_train_dataset, weights, biases,relu_flag)\n",
    "  loss = tf.reduce_mean(\n",
    "    tf.nn.softmax_cross_entropy_with_logits(labels=tf_train_labels, logits=logits)+\n",
    "      regu_beta * tf.nn.l2_loss(weights['out']) +\n",
    "      regu_beta * tf.nn.l2_loss(weights['h1']) +\n",
    "      regu_beta * tf.nn.l2_loss(weights['h2'])\n",
    "  )\n",
    "  optimizer = tf.train.GradientDescentOptimizer(learning_rate).minimize(loss)\n",
    "\n",
    "  train_prediction = tf.nn.softmax(logits)\n",
    "  valid_prediction = tf.nn.softmax(nn_2h(tf_valid_dataset, weights, biases,relu_flag))\n",
    "  test_prediction = tf.nn.softmax(nn_2h(tf_test_dataset, weights, biases,relu_flag))"
   ]
  },
  {
   "cell_type": "code",
   "execution_count": 58,
   "metadata": {
    "collapsed": false,
    "deletable": true,
    "editable": true
   },
   "outputs": [
    {
     "name": "stdout",
     "output_type": "stream",
     "text": [
      "Initialized\n",
      "Minibatch loss at step 0: 18.396400\n",
      "Minibatch loss at step 300: 1.316361\n",
      "Minibatch loss at step 600: 1.337265\n",
      "Minibatch loss at step 900: 1.167573\n",
      "Minibatch loss at step 1200: 0.707752\n",
      "Minibatch loss at step 1500: 0.733797\n",
      "Minibatch loss at step 1800: 0.857349\n",
      "Minibatch loss at step 2100: 0.669286\n",
      "Minibatch loss at step 2400: 0.727261\n",
      "Minibatch loss at step 2700: 0.666039\n",
      "Minibatch loss at step 3000: 0.851142\n",
      "Test accuracy: 86.0%\n",
      "CPU times: user 4min 29s, sys: 13.4 s, total: 4min 42s\n",
      "Wall time: 1min 30s\n"
     ]
    },
    {
     "data": {
      "image/png": "[encoded data removed]",
      "text/plain": [
       "<matplotlib.figure.Figure at 0x114e710d0>"
      ]
     },
     "metadata": {},
     "output_type": "display_data"
    }
   ],
   "source": [
    "%time result_nn_2h = run_training(3001,graph_nn_2h,lr = 0.5)\n",
    "plot_accuracy_history(result_nn_2h,title = 'NN with 2 hidden layer')"
   ]
  },
  {
   "cell_type": "code",
   "execution_count": 59,
   "metadata": {
    "collapsed": false,
    "deletable": true,
    "editable": true
   },
   "outputs": [
    {
     "name": "stdout",
     "output_type": "stream",
     "text": [
      "Initialized\n",
      "Minibatch loss at step 0: 549.128967\n",
      "Minibatch loss at step 300: 395.567139\n",
      "Minibatch loss at step 600: 293.362366\n",
      "Minibatch loss at step 900: 217.529999\n",
      "Minibatch loss at step 1200: 160.755280\n",
      "Minibatch loss at step 1500: 119.159912\n",
      "Minibatch loss at step 1800: 88.613396\n",
      "Minibatch loss at step 2100: 65.698502\n",
      "Minibatch loss at step 2400: 48.852558\n",
      "Minibatch loss at step 2700: 36.442917\n",
      "Minibatch loss at step 3000: 27.164310\n",
      "Test accuracy: 89.2%\n",
      "CPU times: user 4min 27s, sys: 11.6 s, total: 4min 39s\n",
      "Wall time: 1min 23s\n"
     ]
    },
    {
     "data": {
      "image/png": "[encoded data removed]",
      "text/plain": [
       "<matplotlib.figure.Figure at 0x142008690>"
      ]
     },
     "metadata": {},
     "output_type": "display_data"
    }
   ],
   "source": [
    "%time result_nn_2h_L2 = run_training(3001,graph_nn_2h,lr = 0.5,beta = 1e-3)\n",
    "plot_accuracy_history(result_nn_2h_L2,title = 'NN with 2 hidden layer with L2 regularization')"
   ]
  },
  {
   "cell_type": "code",
   "execution_count": 60,
   "metadata": {
    "collapsed": false,
    "deletable": true,
    "editable": true
   },
   "outputs": [
    {
     "name": "stdout",
     "output_type": "stream",
     "text": [
      "Initialized\n",
      "Minibatch loss at step 0: 21.221512\n",
      "Minibatch loss at step 900: 0.929538\n",
      "Minibatch loss at step 1800: 0.829372\n",
      "Minibatch loss at step 2700: 0.615279\n",
      "Minibatch loss at step 3600: 0.839060\n",
      "Minibatch loss at step 4500: 0.540540\n",
      "Minibatch loss at step 5400: 0.501989\n",
      "Minibatch loss at step 6300: 0.617895\n",
      "Minibatch loss at step 7200: 0.619866\n",
      "Minibatch loss at step 8100: 0.449775\n",
      "Minibatch loss at step 9000: 0.902547\n",
      "Test accuracy: 87.8%\n",
      "CPU times: user 12min 39s, sys: 35.4 s, total: 13min 15s\n",
      "Wall time: 4min 16s\n"
     ]
    },
    {
     "data": {
      "image/png": "[encoded data removed]",
      "text/plain": [
       "<matplotlib.figure.Figure at 0x146239990>"
      ]
     },
     "metadata": {},
     "output_type": "display_data"
    }
   ],
   "source": [
    "%time result_nn_2h = run_training(9001,graph_nn_2h,lr = 0.5)\n",
    "plot_accuracy_history(result_nn_2h,title = 'NN with 2 hidden layer')"
   ]
  },
  {
   "cell_type": "code",
   "execution_count": 66,
   "metadata": {
    "collapsed": false,
    "deletable": true,
    "editable": true
   },
   "outputs": [
    {
     "name": "stdout",
     "output_type": "stream",
     "text": [
      "Initialized\n",
      "Minibatch loss at step 0: 560.451965\n",
      "Minibatch loss at step 900: 217.818207\n",
      "Minibatch loss at step 1800: 88.773071\n",
      "Minibatch loss at step 2700: 36.478260\n",
      "Minibatch loss at step 3600: 15.338892\n",
      "Minibatch loss at step 4500: 6.556841\n",
      "Minibatch loss at step 5400: 3.142102\n",
      "Minibatch loss at step 6300: 1.755393\n",
      "Minibatch loss at step 7200: 1.276191\n",
      "Minibatch loss at step 8100: 0.795874\n",
      "Minibatch loss at step 9000: 1.076841\n",
      "Test accuracy: 88.8%\n",
      "CPU times: user 12min 36s, sys: 32 s, total: 13min 8s\n",
      "Wall time: 3min 56s\n"
     ]
    },
    {
     "data": {
      "image/png": "[encoded data removed]",
      "text/plain": [
       "<matplotlib.figure.Figure at 0x15939b1d0>"
      ]
     },
     "metadata": {},
     "output_type": "display_data"
    }
   ],
   "source": [
    "%time result_nn_2h_L2 = run_training(9001,graph_nn_2h,lr = 0.5,beta = 1e-3)\n",
    "plot_accuracy_history(result_nn_2h_L2,title = 'NN with 2 hidden layer with L2 regularization')"
   ]
  },
  {
   "cell_type": "markdown",
   "metadata": {
    "deletable": true,
    "editable": true
   },
   "source": [
    "### Learning Rate Decay"
   ]
  },
  {
   "cell_type": "code",
   "execution_count": null,
   "metadata": {
    "collapsed": true,
    "deletable": true,
    "editable": true
   },
   "outputs": [],
   "source": [
    "# Clean noisy"
   ]
  },
  {
   "cell_type": "code",
   "execution_count": 61,
   "metadata": {
    "collapsed": true,
    "deletable": true,
    "editable": true
   },
   "outputs": [],
   "source": [
    "graph_nn_2h_decay_lr = tf.Graph()\n",
    "with graph_nn_2h_decay_lr.as_default():  \n",
    "  batch_size = 128\n",
    "  n_hidden_1 = 1024 # 1st layer number of features\n",
    "  n_hidden_2 = 256 # 1st layer number of features\n",
    "  tf_train_dataset = tf.placeholder(tf.float32,shape=(batch_size, image_size * image_size))\n",
    "  tf_train_labels = tf.placeholder(tf.float32, shape=(batch_size, num_labels))\n",
    "  tf_valid_dataset = tf.constant(valid_dataset)\n",
    "  tf_test_dataset = tf.constant(test_dataset)\n",
    "  learning_rate = tf.placeholder(tf.float32)\n",
    "  pkeep = tf.placeholder(tf.float32)\n",
    "  regu_beta = tf.placeholder(tf.float32)\n",
    "  relu_flag = tf.placeholder(tf.int8)\n",
    "  global_step = tf.Variable(0)\n",
    "  \n",
    "  weights = {\n",
    "     'h1': tf.Variable(tf.random_normal([image_size * image_size, n_hidden_1])),\n",
    "     'h2': tf.Variable(tf.random_normal([n_hidden_1, n_hidden_2])),\n",
    "     'out': tf.Variable(tf.random_normal([n_hidden_2, num_labels]))\n",
    "  }\n",
    "  biases = {\n",
    "     'b1': tf.Variable(tf.random_normal([n_hidden_1])),\n",
    "     'b2': tf.Variable(tf.random_normal([n_hidden_2])),\n",
    "     'out': tf.Variable(tf.random_normal([num_labels]))\n",
    "  }\n",
    "  logits = nn_2h(tf_train_dataset, weights, biases,relu_flag)\n",
    "  loss = tf.reduce_mean(\n",
    "    tf.nn.softmax_cross_entropy_with_logits(labels=tf_train_labels, logits=logits)+\n",
    "      regu_beta * tf.nn.l2_loss(weights['out']) +\n",
    "      regu_beta * tf.nn.l2_loss(weights['h1']) +\n",
    "      regu_beta * tf.nn.l2_loss(weights['h2'])\n",
    "  )\n",
    "  \n",
    "  learning_rate_decay = tf.train.exponential_decay(learning_rate, global_step, 1000, 0.65, staircase=True)\n",
    "  optimizer = tf.train.GradientDescentOptimizer(learning_rate_decay).minimize(loss,global_step=global_step)\n",
    "  train_prediction = tf.nn.softmax(logits)\n",
    "  valid_prediction = tf.nn.softmax(nn_2h(tf_valid_dataset, weights, biases,relu_flag))\n",
    "  test_prediction = tf.nn.softmax(nn_2h(tf_test_dataset, weights, biases,relu_flag))"
   ]
  },
  {
   "cell_type": "code",
   "execution_count": 63,
   "metadata": {
    "collapsed": false,
    "deletable": true,
    "editable": true
   },
   "outputs": [
    {
     "name": "stdout",
     "output_type": "stream",
     "text": [
      "Initialized\n",
      "Minibatch loss at step 0: 560.747803\n",
      "Minibatch loss at step 900: 217.767303\n",
      "Minibatch loss at step 1800: 117.136543\n",
      "Minibatch loss at step 2700: 76.667686\n",
      "Minibatch loss at step 3600: 57.582455\n",
      "Minibatch loss at step 4500: 47.086128\n",
      "Minibatch loss at step 5400: 41.205276\n",
      "Minibatch loss at step 6300: 37.674728\n",
      "Minibatch loss at step 7200: 35.494179\n",
      "Minibatch loss at step 8100: 33.802101\n",
      "Minibatch loss at step 9000: 33.042324\n",
      "Test accuracy: 91.7%\n",
      "CPU times: user 12min 33s, sys: 32.8 s, total: 13min 6s\n",
      "Wall time: 3min 54s\n"
     ]
    },
    {
     "data": {
      "image/png": "[encoded data removed]",
      "text/plain": [
       "<matplotlib.figure.Figure at 0x146027710>"
      ]
     },
     "metadata": {},
     "output_type": "display_data"
    }
   ],
   "source": [
    "%time result_nn_2h_decay_lr = run_training(9001,graph_nn_2h_decay_lr,lr = 0.5,beta = 1e-3)\n",
    "plot_accuracy_history(result_nn_2h_decay_lr,title = '2-hidden layer NN with L2 regularization with decay learning rate')"
   ]
  },
  {
   "cell_type": "markdown",
   "metadata": {
    "deletable": true,
    "editable": true
   },
   "source": [
    "### Dropout"
   ]
  },
  {
   "cell_type": "code",
   "execution_count": 1,
   "metadata": {
    "collapsed": true,
    "deletable": true,
    "editable": true
   },
   "outputs": [],
   "source": [
    "# reduce overfitting"
   ]
  },
  {
   "cell_type": "code",
   "execution_count": 67,
   "metadata": {
    "collapsed": true,
    "deletable": true,
    "editable": true
   },
   "outputs": [],
   "source": [
    "def nn_2h_dropout(x, weights, biases,relu = 1,drop_out = 1.0):\n",
    "    layer_1 = tf.add(tf.matmul(x, weights['h1']), biases['b1'])\n",
    "    if (relu == 1):\n",
    "        layer_1 = tf.nn.relu(layer_1)\n",
    "    else:\n",
    "        layer_1 = tf.nn.sigmoid(layer_1)\n",
    "    \n",
    "    layer_2 = tf.add(tf.matmul(layer_1, weights['h2']), biases['b2'])\n",
    "    if (relu == 1):\n",
    "        layer_2 = tf.nn.relu(layer_2)\n",
    "    else:\n",
    "        layer_2 = tf.nn.sigmoid(layer_2)\n",
    "    layer_2 = tf.nn.dropout(layer_2,drop_out)\n",
    "    \n",
    "    out_layer = tf.matmul(layer_2, weights['out']) + biases['out']\n",
    "    return out_layer\n",
    "\n",
    "\n",
    "graph = tf.Graph()\n",
    "with graph.as_default():  \n",
    "  batch_size = 128\n",
    "  n_hidden_1 = 1024 # 1st layer number of features\n",
    "  n_hidden_2 = 256 # 1st layer number of features\n",
    "  tf_train_dataset = tf.placeholder(tf.float32,shape=(batch_size, image_size * image_size))\n",
    "  tf_train_labels = tf.placeholder(tf.float32, shape=(batch_size, num_labels))\n",
    "  tf_valid_dataset = tf.constant(valid_dataset)\n",
    "  tf_test_dataset = tf.constant(test_dataset)\n",
    "  learning_rate = tf.placeholder(tf.float32)\n",
    "  pkeep = tf.placeholder(tf.float32)\n",
    "  regu_beta = tf.placeholder(tf.float32)\n",
    "  relu_flag = tf.placeholder(tf.int8)\n",
    "  global_step = tf.Variable(0)\n",
    "  \n",
    "  weights = {\n",
    "     'h1': tf.Variable(tf.random_normal([image_size * image_size, n_hidden_1])),\n",
    "     'h2': tf.Variable(tf.random_normal([n_hidden_1, n_hidden_2])),\n",
    "     'out': tf.Variable(tf.random_normal([n_hidden_2, num_labels]))\n",
    "  }\n",
    "  biases = {\n",
    "     'b1': tf.Variable(tf.random_normal([n_hidden_1])),\n",
    "     'b2': tf.Variable(tf.random_normal([n_hidden_2])),\n",
    "     'out': tf.Variable(tf.random_normal([num_labels]))\n",
    "  }\n",
    "  logits = nn_2h_dropout(tf_train_dataset, weights, biases,relu_flag,drop_out = pkeep)\n",
    "  loss = tf.reduce_mean(\n",
    "    tf.nn.softmax_cross_entropy_with_logits(labels=tf_train_labels, logits=logits)+\n",
    "      regu_beta * tf.nn.l2_loss(weights['out']) +\n",
    "      regu_beta * tf.nn.l2_loss(weights['h1']) +\n",
    "      regu_beta * tf.nn.l2_loss(weights['h2'])\n",
    "  )\n",
    "  \n",
    "  learning_rate_decay = tf.train.exponential_decay(learning_rate, global_step, 1000, 0.65, staircase=True)\n",
    "  optimizer = tf.train.GradientDescentOptimizer(learning_rate_decay).minimize(loss,global_step=global_step)\n",
    "  train_prediction = tf.nn.softmax(logits)\n",
    "  valid_prediction = tf.nn.softmax(nn_2h(tf_valid_dataset, weights, biases,relu_flag))\n",
    "  test_prediction = tf.nn.softmax(nn_2h(tf_test_dataset, weights, biases,relu_flag))"
   ]
  },
  {
   "cell_type": "code",
   "execution_count": 68,
   "metadata": {
    "collapsed": false,
    "deletable": true,
    "editable": true
   },
   "outputs": [
    {
     "name": "stdout",
     "output_type": "stream",
     "text": [
      "Initialized\n",
      "Minibatch loss at step 0: 557.361450\n",
      "Minibatch loss at step 900: 217.645905\n",
      "Minibatch loss at step 1800: 117.371567\n",
      "Minibatch loss at step 2700: 76.826920\n",
      "Minibatch loss at step 3600: 57.631477\n",
      "Minibatch loss at step 4500: 47.195255\n",
      "Minibatch loss at step 5400: 41.286560\n",
      "Minibatch loss at step 6300: 37.753998\n",
      "Minibatch loss at step 7200: 35.607227\n",
      "Minibatch loss at step 8100: 33.920155\n",
      "Minibatch loss at step 9000: 33.112030\n",
      "Test accuracy: 91.3%\n",
      "CPU times: user 12min 52s, sys: 36.7 s, total: 13min 29s\n",
      "Wall time: 4min 16s\n"
     ]
    },
    {
     "data": {
      "image/png": "[encoded data removed]",
      "text/plain": [
       "<matplotlib.figure.Figure at 0x146027b90>"
      ]
     },
     "metadata": {},
     "output_type": "display_data"
    }
   ],
   "source": [
    "%time result_nn_2h_decay_lr_dropout = run_training(9001,graph,lr = 0.5,beta = 1e-3,dropout = 0.75)\n",
    "plot_accuracy_history(result_nn_2h_decay_lr_dropout,title = '2-hidden layer NN with L2 regularization with decay learning rate and dropout')"
   ]
  },
  {
   "cell_type": "markdown",
   "metadata": {
    "deletable": true,
    "editable": true
   },
   "source": [
    "# Convolutional Neural Network"
   ]
  },
  {
   "cell_type": "code",
   "execution_count": 75,
   "metadata": {
    "collapsed": false,
    "deletable": true,
    "editable": true
   },
   "outputs": [
    {
     "name": "stdout",
     "output_type": "stream",
     "text": [
      "Training set (200000, 28, 28) (200000,)\n",
      "Validation set (10000, 28, 28) (10000,)\n",
      "Test set (10000, 28, 28) (10000,)\n"
     ]
    }
   ],
   "source": [
    "pickle_file = 'notMNIST.pickle'\n",
    "\n",
    "with open(pickle_file, 'rb') as f:\n",
    "  save = pickle.load(f)\n",
    "  train_dataset = save['train_dataset']\n",
    "  train_labels = save['train_labels']\n",
    "  valid_dataset = save['valid_dataset']\n",
    "  valid_labels = save['valid_labels']\n",
    "  test_dataset = save['test_dataset']\n",
    "  test_labels = save['test_labels']\n",
    "  del save  # hint to help gc free up memory\n",
    "  print('Training set', train_dataset.shape, train_labels.shape)\n",
    "  print('Validation set', valid_dataset.shape, valid_labels.shape)\n",
    "  print('Test set', test_dataset.shape, test_labels.shape)"
   ]
  },
  {
   "cell_type": "code",
   "execution_count": 76,
   "metadata": {
    "collapsed": false,
    "deletable": true,
    "editable": true
   },
   "outputs": [
    {
     "name": "stdout",
     "output_type": "stream",
     "text": [
      "Training set (200000, 28, 28, 1) (200000, 10)\n",
      "Validation set (10000, 28, 28, 1) (10000, 10)\n",
      "Test set (10000, 28, 28, 1) (10000, 10)\n"
     ]
    }
   ],
   "source": [
    "image_size = 28\n",
    "num_labels = 10\n",
    "num_channels = 1 # grayscale\n",
    "\n",
    "import numpy as np\n",
    "\n",
    "def reformat(dataset, labels):\n",
    "  dataset = dataset.reshape(\n",
    "    (-1, image_size, image_size, num_channels)).astype(np.float32)\n",
    "  labels = (np.arange(num_labels) == labels[:,None]).astype(np.float32)\n",
    "  return dataset, labels\n",
    "train_dataset, train_labels = reformat(train_dataset, train_labels)\n",
    "valid_dataset, valid_labels = reformat(valid_dataset, valid_labels)\n",
    "test_dataset, test_labels = reformat(test_dataset, test_labels)\n",
    "print('Training set', train_dataset.shape, train_labels.shape)\n",
    "print('Validation set', valid_dataset.shape, valid_labels.shape)\n",
    "print('Test set', test_dataset.shape, test_labels.shape)"
   ]
  },
  {
   "cell_type": "markdown",
   "metadata": {
    "deletable": true,
    "editable": true
   },
   "source": [
    "Convonlution Neural Networks(COVNETS) are Neural Networks that share their parameters across space. CNN is ideal for image recognitions."
   ]
  },
  {
   "cell_type": "markdown",
   "metadata": {
    "deletable": true,
    "editable": true
   },
   "source": [
    "## Stride VS. Pooling"
   ]
  },
  {
   "cell_type": "code",
   "execution_count": 77,
   "metadata": {
    "collapsed": false,
    "deletable": true,
    "editable": true
   },
   "outputs": [],
   "source": [
    "graph = tf.Graph()\n",
    "with graph.as_default():\n",
    "  batch_size = 16\n",
    "  patch_size = 5\n",
    "  depth = 16\n",
    "  num_hidden = 64\n",
    "  num_channels = 1\n",
    "  tf_train_dataset = tf.placeholder(tf.float32, shape=(batch_size, image_size, image_size, num_channels))\n",
    "  tf_train_labels = tf.placeholder(tf.float32, shape=(batch_size, num_labels))\n",
    "  tf_valid_dataset = tf.constant(valid_dataset)\n",
    "  tf_test_dataset = tf.constant(test_dataset)\n",
    "  learning_rate = tf.placeholder(tf.float32)\n",
    "  pkeep = tf.placeholder(tf.float32)\n",
    "  regu_beta = tf.placeholder(tf.float32)\n",
    "  relu_flag = tf.placeholder(tf.int8)\n",
    "  global_step = tf.Variable(0)\n",
    "  \n",
    "  layer1_weights = tf.Variable(tf.truncated_normal(\n",
    "      [patch_size, patch_size, num_channels, depth], stddev=0.1))\n",
    "  layer1_biases = tf.Variable(tf.zeros([depth]))\n",
    "  layer2_weights = tf.Variable(tf.truncated_normal(\n",
    "      [patch_size, patch_size, depth, depth], stddev=0.1))\n",
    "  layer2_biases = tf.Variable(tf.constant(1.0, shape=[depth]))\n",
    "  layer3_weights = tf.Variable(tf.truncated_normal(\n",
    "      [image_size // 4 * image_size // 4 * depth, num_hidden], stddev=0.1))\n",
    "  layer3_biases = tf.Variable(tf.constant(1.0, shape=[num_hidden]))\n",
    "  layer4_weights = tf.Variable(tf.truncated_normal(\n",
    "      [num_hidden, num_labels], stddev=0.1))\n",
    "  layer4_biases = tf.Variable(tf.constant(1.0, shape=[num_labels]))\n",
    "\n",
    "  def model(data):\n",
    "    conv = tf.nn.conv2d(data, layer1_weights, [1, 2, 2, 1], padding='SAME')\n",
    "    hidden = tf.nn.relu(conv + layer1_biases)\n",
    "    conv = tf.nn.conv2d(hidden, layer2_weights, [1, 2, 2, 1], padding='SAME')\n",
    "    hidden = tf.nn.relu(conv + layer2_biases)\n",
    "    shape = hidden.get_shape().as_list()\n",
    "    reshape = tf.reshape(hidden, [shape[0], shape[1] * shape[2] * shape[3]])\n",
    "    hidden = tf.nn.relu(tf.matmul(reshape, layer3_weights) + layer3_biases)\n",
    "    return tf.matmul(hidden, layer4_weights) + layer4_biases\n",
    "  \n",
    "  # Training computation.\n",
    "  logits = model(tf_train_dataset)\n",
    "  loss = tf.reduce_mean(\n",
    "    tf.nn.softmax_cross_entropy_with_logits(labels=tf_train_labels, logits=logits))\n",
    "    \n",
    "  # Optimizer.\n",
    "  optimizer = tf.train.GradientDescentOptimizer(learning_rate).minimize(loss)\n",
    "  \n",
    "  # Predictions for the training, validation, and test data.\n",
    "  train_prediction = tf.nn.softmax(logits)\n",
    "  valid_prediction = tf.nn.softmax(model(tf_valid_dataset))\n",
    "  test_prediction = tf.nn.softmax(model(tf_test_dataset))"
   ]
  },
  {
   "cell_type": "code",
   "execution_count": 78,
   "metadata": {
    "collapsed": false,
    "deletable": true,
    "editable": true
   },
   "outputs": [
    {
     "name": "stdout",
     "output_type": "stream",
     "text": [
      "Initialized\n",
      "Minibatch loss at step 0: 2.946635\n",
      "Minibatch loss at step 100: 1.062271\n",
      "Minibatch loss at step 200: 1.125587\n",
      "Minibatch loss at step 300: 0.341779\n",
      "Minibatch loss at step 400: 0.376066\n",
      "Minibatch loss at step 500: 0.738973\n",
      "Minibatch loss at step 600: 0.343867\n",
      "Minibatch loss at step 700: 0.933351\n",
      "Minibatch loss at step 800: 0.530879\n",
      "Minibatch loss at step 900: 0.657999\n",
      "Minibatch loss at step 1000: 0.284990\n",
      "Test accuracy: 89.3%\n",
      "CPU times: user 36.6 s, sys: 24.8 s, total: 1min 1s\n",
      "Wall time: 24.6 s\n"
     ]
    },
    {
     "data": {
      "image/png": "[encoded data removed]",
      "text/plain": [
       "<matplotlib.figure.Figure at 0x1591e6190>"
      ]
     },
     "metadata": {},
     "output_type": "display_data"
    }
   ],
   "source": [
    "%time result_cnn_stride = run_training(1001,graph,lr = 0.05)\n",
    "plot_accuracy_history(result_cnn_stride,title = 'CNN with stride 2')"
   ]
  },
  {
   "cell_type": "code",
   "execution_count": 79,
   "metadata": {
    "collapsed": true,
    "deletable": true,
    "editable": true
   },
   "outputs": [],
   "source": [
    "graph = tf.Graph()\n",
    "with graph.as_default():\n",
    "  batch_size = 16\n",
    "  patch_size = 5\n",
    "  depth = 16\n",
    "  num_hidden = 64\n",
    "  num_channels = 1\n",
    "  tf_train_dataset = tf.placeholder(tf.float32, shape=(batch_size, image_size, image_size, num_channels))\n",
    "  tf_train_labels = tf.placeholder(tf.float32, shape=(batch_size, num_labels))\n",
    "  tf_valid_dataset = tf.constant(valid_dataset)\n",
    "  tf_test_dataset = tf.constant(test_dataset)\n",
    "  learning_rate = tf.placeholder(tf.float32)\n",
    "  pkeep = tf.placeholder(tf.float32)\n",
    "  regu_beta = tf.placeholder(tf.float32)\n",
    "  relu_flag = tf.placeholder(tf.int8)\n",
    "  global_step = tf.Variable(0)\n",
    "  \n",
    "  layer1_weights = tf.Variable(tf.truncated_normal(\n",
    "      [patch_size, patch_size, num_channels, depth], stddev=0.1))\n",
    "  layer1_biases = tf.Variable(tf.zeros([depth]))\n",
    "  layer2_weights = tf.Variable(tf.truncated_normal(\n",
    "      [patch_size, patch_size, depth, depth], stddev=0.1))\n",
    "  layer2_biases = tf.Variable(tf.constant(1.0, shape=[depth]))\n",
    "  layer3_weights = tf.Variable(tf.truncated_normal(\n",
    "      [image_size // 4 * image_size // 4 * depth, num_hidden], stddev=0.1))\n",
    "  layer3_biases = tf.Variable(tf.constant(1.0, shape=[num_hidden]))\n",
    "  layer4_weights = tf.Variable(tf.truncated_normal(\n",
    "      [num_hidden, num_labels], stddev=0.1))\n",
    "  layer4_biases = tf.Variable(tf.constant(1.0, shape=[num_labels]))\n",
    "\n",
    "  def model(data):\n",
    "    k =2\n",
    "    stride = 2\n",
    "    conv = tf.nn.conv2d(data, layer1_weights, [1, 1, 1, 1], padding='SAME')\n",
    "    hidden = tf.nn.relu(conv + layer1_biases)\n",
    "    pool = tf.nn.max_pool(hidden, ksize=[1, k, k, 1], strides=[1, stride, stride, 1],\n",
    "                          padding='SAME')\n",
    "    conv = tf.nn.conv2d(pool, layer2_weights, [1, 1, 1, 1], padding='SAME')\n",
    "    hidden = tf.nn.relu(conv + layer2_biases)\n",
    "    pool = tf.nn.max_pool(hidden, ksize=[1, k, k, 1], strides=[1, stride, stride, 1],\n",
    "                          padding='SAME')\n",
    "      \n",
    "    shape = pool.get_shape().as_list()\n",
    "    reshape = tf.reshape(pool, [shape[0], shape[1] * shape[2] * shape[3]])\n",
    "    hidden = tf.nn.relu(tf.matmul(reshape, layer3_weights) + layer3_biases)\n",
    "    return tf.matmul(hidden, layer4_weights) + layer4_biases\n",
    "  \n",
    "  # Training computation.\n",
    "  logits = model(tf_train_dataset)\n",
    "  loss = tf.reduce_mean(\n",
    "    tf.nn.softmax_cross_entropy_with_logits(labels=tf_train_labels, logits=logits))\n",
    "    \n",
    "  # Optimizer.\n",
    "  optimizer = tf.train.GradientDescentOptimizer(learning_rate).minimize(loss)\n",
    "  \n",
    "  # Predictions for the training, validation, and test data.\n",
    "  train_prediction = tf.nn.softmax(logits)\n",
    "  valid_prediction = tf.nn.softmax(model(tf_valid_dataset))\n",
    "  test_prediction = tf.nn.softmax(model(tf_test_dataset))\n"
   ]
  },
  {
   "cell_type": "code",
   "execution_count": 80,
   "metadata": {
    "collapsed": false,
    "deletable": true,
    "editable": true
   },
   "outputs": [
    {
     "name": "stdout",
     "output_type": "stream",
     "text": [
      "Initialized\n",
      "Minibatch loss at step 0: 2.742388\n",
      "Minibatch loss at step 100: 1.233572\n",
      "Minibatch loss at step 200: 0.920397\n",
      "Minibatch loss at step 300: 0.470889\n",
      "Minibatch loss at step 400: 0.278884\n",
      "Minibatch loss at step 500: 0.617461\n",
      "Minibatch loss at step 600: 0.395510\n",
      "Minibatch loss at step 700: 0.918802\n",
      "Minibatch loss at step 800: 0.568405\n",
      "Minibatch loss at step 900: 0.572536\n",
      "Minibatch loss at step 1000: 0.274879\n",
      "Test accuracy: 90.8%\n",
      "CPU times: user 2min 27s, sys: 55.8 s, total: 3min 22s\n",
      "Wall time: 1min 25s\n"
     ]
    },
    {
     "data": {
      "image/png": "[encoded data removed]",
      "text/plain": [
       "<matplotlib.figure.Figure at 0x159469310>"
      ]
     },
     "metadata": {},
     "output_type": "display_data"
    }
   ],
   "source": [
    "%time result_cnn_pooling= run_training(1001,graph,lr = 0.05)\n",
    "plot_accuracy_history(result_cnn_pooling,title = 'CNN with max pooling')"
   ]
  },
  {
   "cell_type": "markdown",
   "metadata": {
    "deletable": true,
    "editable": true
   },
   "source": [
    "## LeNet"
   ]
  },
  {
   "cell_type": "code",
   "execution_count": 83,
   "metadata": {
    "collapsed": false,
    "deletable": true,
    "editable": true
   },
   "outputs": [
    {
     "data": {
      "text/html": [
       "<img src=\"http://eblearn.sourceforge.net/lib/exe/lenet5.png\"/>"
      ],
      "text/plain": [
       "<IPython.core.display.Image object>"
      ]
     },
     "metadata": {},
     "output_type": "display_data"
    }
   ],
   "source": [
    "from IPython.display import display, Image\n",
    "lenet5 = Image(url = 'http://eblearn.sourceforge.net/lib/exe/lenet5.png')\n",
    "display(lenet5)"
   ]
  },
  {
   "cell_type": "markdown",
   "metadata": {
    "deletable": true,
    "editable": true
   },
   "source": [
    "Architecture\n",
    "\n",
    "Layer 1: Convolutional. The output shape is 28x28x6.\n",
    "\n",
    "Activation. Let's use ReLu activation function.\n",
    "\n",
    "Pooling. The output shape is 14x14x6.\n",
    "\n",
    "Layer 2: Convolutional. The output shape is 10x10x16.\n",
    "\n",
    "Activation. Let's use ReLu activation function.\n",
    "\n",
    "Pooling. The output shape is 5x5x16.\n",
    "\n",
    "Flatten. Flatten the output shape of the final pooling layer such that it's 1D instead of 3D.\n",
    "\n",
    "Layer 3: Fully Connected. This one have 120 outputs.\n",
    "\n",
    "Activation. Let's use ReLu activation function.\n",
    "\n",
    "Layer 4: Fully Connected. This one have 84 outputs.\n",
    "\n",
    "Activation. Let's use ReLu activation function.\n",
    "\n",
    "Layer 5: Fully Connected (Logits). This one have 10 outputs.\n",
    "\n"
   ]
  },
  {
   "cell_type": "code",
   "execution_count": null,
   "metadata": {
    "collapsed": true,
    "deletable": true,
    "editable": true
   },
   "outputs": [],
   "source": []
  },
  {
   "cell_type": "markdown",
   "metadata": {
    "deletable": true,
    "editable": true
   },
   "source": [
    "[LeNet](http://yann.lecun.com/exdb/publis/pdf/lecun-01a.pdf)"
   ]
  },
  {
   "cell_type": "code",
   "execution_count": 81,
   "metadata": {
    "collapsed": true,
    "deletable": true,
    "editable": true
   },
   "outputs": [],
   "source": [
    "graph = tf.Graph()\n",
    "with graph.as_default():\n",
    "  batch_size = 16\n",
    "  patch_size = 5\n",
    "  depth1 = 6\n",
    "  depth2 = 16\n",
    "  num_hidden_1 = 120\n",
    "  num_hidden_2 = 84\n",
    "\n",
    "  tf_train_dataset = tf.placeholder(tf.float32, shape=(batch_size, image_size, image_size, num_channels))\n",
    "  tf_train_labels = tf.placeholder(tf.float32, shape=(batch_size, num_labels))\n",
    "  tf_valid_dataset = tf.constant(valid_dataset)\n",
    "  tf_test_dataset = tf.constant(test_dataset)\n",
    "  learning_rate = tf.placeholder(tf.float32)\n",
    "  pkeep = tf.placeholder(tf.float32)\n",
    "  regu_beta = tf.placeholder(tf.float32)\n",
    "  relu_flag = tf.placeholder(tf.int8)\n",
    "  global_step = tf.Variable(0)\n",
    "  \n",
    "  layer1_weights = tf.Variable(tf.truncated_normal(\n",
    "      [patch_size, patch_size, num_channels, depth1], stddev=0.1))\n",
    "  layer1_biases = tf.Variable(tf.zeros([depth1]))\n",
    "  layer2_weights = tf.Variable(tf.truncated_normal(\n",
    "      [patch_size, patch_size, depth1, depth2], stddev=0.1))\n",
    "  layer2_biases = tf.Variable(tf.constant(1.0, shape=[depth2]))\n",
    "  layer3_weights = tf.Variable(tf.truncated_normal(\n",
    "      [5*5*depth2, num_hidden_1], stddev=0.1))\n",
    "  layer3_biases = tf.Variable(tf.constant(1.0, shape=[num_hidden_1]))\n",
    "  layer4_weights = tf.Variable(tf.truncated_normal(\n",
    "      [num_hidden_1, num_hidden_2], stddev=0.1))\n",
    "  layer4_biases = tf.Variable(tf.constant(1.0, shape=[num_hidden_2]))\n",
    "  layer5_weights = tf.Variable(tf.truncated_normal(\n",
    "      [num_hidden_2, num_labels], stddev=0.1))\n",
    "  layer5_biases = tf.Variable(tf.constant(1.0, shape=[num_labels]))\n",
    "  \n",
    "  # Model.\n",
    "  def model(data):\n",
    "    # Layer 1: Convolutional. Input = 32x32x1(paper) 28x28x1(here). Output = 28x28x6.\n",
    "    # Pooling. Input = 28x28x6. Output = 14x14x6.\n",
    "    conv1 = tf.nn.conv2d(data, layer1_weights, [1, 1, 1, 1], padding='SAME')\n",
    "    conv1 = tf.nn.relu(conv1 + layer1_biases)\n",
    "    pool1 = tf.nn.max_pool(conv1, [1, 2, 2, 1], [1, 2, 2, 1],padding='VALID')\n",
    "    # Layer 2: Convolutional. Output = 10x10x16.    \n",
    "    # Pooling. Input = 10x10x16. Output = 5x5x16.\n",
    "    conv2 = tf.nn.conv2d(pool1, layer2_weights, [1, 1, 1, 1], padding='VALID')\n",
    "    conv2 = tf.nn.relu(conv2 + layer2_biases)\n",
    "    pool2 = tf.nn.max_pool(conv2, [1, 2, 2, 1], [1, 2, 2, 1],padding='VALID')\n",
    "    \n",
    "    # Flatten. Input = 5x5x16. Output = 400.\n",
    "    shape = pool2.get_shape().as_list()\n",
    "    reshape = tf.reshape(pool2, [shape[0], shape[1] * shape[2] * shape[3]])\n",
    "    \n",
    "    # Layer 3: Fully Connected. Input = 400. Output = 120.    \n",
    "    # Activation.\n",
    "    fc1 = tf.nn.relu(tf.matmul(reshape, layer3_weights) + layer3_biases)\n",
    "\n",
    "    # Layer 4: Fully Connected. Input = 120. Output = 84.    \n",
    "    # Activation.\n",
    "    fc2 = tf.nn.relu(tf.matmul(fc1, layer4_weights) + layer4_biases)\n",
    "\n",
    "    # Layer 5: Fully Connected. Input = 84. Output = 10.\n",
    "    return tf.matmul(fc2, layer5_weights) + layer5_biases\n",
    "  \n",
    "  # Training computation.\n",
    "  logits = model(tf_train_dataset)\n",
    "  loss = tf.reduce_mean(\n",
    "    tf.nn.softmax_cross_entropy_with_logits(labels=tf_train_labels, logits=logits))\n",
    "    \n",
    "  # Optimizer.\n",
    "  optimizer = tf.train.GradientDescentOptimizer(learning_rate).minimize(loss)\n",
    "#   optimizer =  tf.train.AdamOptimizer(learning_rate).minimize(loss)\n",
    "  \n",
    "  # Predictions for the training, validation, and test data.\n",
    "  train_prediction = tf.nn.softmax(logits)\n",
    "  valid_prediction = tf.nn.softmax(model(tf_valid_dataset))\n",
    "  test_prediction = tf.nn.softmax(model(tf_test_dataset))\n",
    "\n"
   ]
  },
  {
   "cell_type": "code",
   "execution_count": 82,
   "metadata": {
    "collapsed": false,
    "deletable": true,
    "editable": true
   },
   "outputs": [
    {
     "name": "stdout",
     "output_type": "stream",
     "text": [
      "Initialized\n",
      "Minibatch loss at step 0: 3.287983\n",
      "Minibatch loss at step 5000: 1.216957\n",
      "Minibatch loss at step 10000: 0.258969\n",
      "Minibatch loss at step 15000: 0.687078\n",
      "Minibatch loss at step 20000: 0.436444\n",
      "Minibatch loss at step 25000: 0.868046\n",
      "Minibatch loss at step 30000: 0.810472\n",
      "Minibatch loss at step 35000: 0.660300\n",
      "Minibatch loss at step 40000: 0.703985\n",
      "Minibatch loss at step 45000: 0.425046\n",
      "Minibatch loss at step 50000: 0.222826\n",
      "Test accuracy: 93.0%\n",
      "CPU times: user 20min 20s, sys: 13min 59s, total: 34min 20s\n",
      "Wall time: 14min 19s\n"
     ]
    },
    {
     "data": {
      "image/png": "[encoded data removed]",
      "text/plain": [
       "<matplotlib.figure.Figure at 0x159435cd0>"
      ]
     },
     "metadata": {},
     "output_type": "display_data"
    }
   ],
   "source": [
    "%time result_cnn_lenet= run_training(50001,graph,lr = 1e-3)\n",
    "plot_accuracy_history(result_cnn_lenet,title = 'LeNet')"
   ]
  },
  {
   "cell_type": "code",
   "execution_count": null,
   "metadata": {
    "collapsed": true,
    "deletable": true,
    "editable": true
   },
   "outputs": [],
   "source": []
  }
 ],
 "metadata": {
  "kernelspec": {
   "display_name": "Python (tensorflow)",
   "language": "python",
   "name": "tensorflow"
  },
  "language_info": {
   "codemirror_mode": {
    "name": "ipython",
    "version": 2
   },
   "file_extension": ".py",
   "mimetype": "text/x-python",
   "name": "python",
   "nbconvert_exporter": "python",
   "pygments_lexer": "ipython2",
   "version": "2.7.12"
  }
 },
 "nbformat": 4,
 "nbformat_minor": 2
}
